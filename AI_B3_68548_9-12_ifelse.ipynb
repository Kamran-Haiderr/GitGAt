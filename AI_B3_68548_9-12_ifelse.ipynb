{
 "cells": [
  {
   "cell_type": "code",
   "execution_count": 4,
   "metadata": {},
   "outputs": [
    {
     "name": "stdout",
     "output_type": "stream",
     "text": [
      "Enter email fg\n",
      "Enter password 324\n",
      "Invalid User\n"
     ]
    }
   ],
   "source": [
    "mail=input(\"Enter email \")\n",
    "passw=input(\"Enter password \")\n",
    "if (mail==\"user@ai\") & (passw==\"123\"):\n",
    "    print(\"Valid User\")\n",
    "else: print(\"Invalid User\")"
   ]
  },
  {
   "cell_type": "code",
   "execution_count": 5,
   "metadata": {},
   "outputs": [
    {
     "name": "stdout",
     "output_type": "stream",
     "text": [
      "Enter email user@ai\n",
      "Enter password 123\n",
      "Valid User\n"
     ]
    }
   ],
   "source": [
    "mail=input(\"Enter email \")\n",
    "passw=input(\"Enter password \")\n",
    "if (mail==\"user@ai\") & (passw==\"123\"):\n",
    "    print(\"Valid User\")\n",
    "else: print(\"Invalid User\")"
   ]
  },
  {
   "cell_type": "code",
   "execution_count": null,
   "metadata": {},
   "outputs": [],
   "source": []
  },
  {
   "cell_type": "code",
   "execution_count": null,
   "metadata": {},
   "outputs": [],
   "source": []
  }
 ],
 "metadata": {
  "kernelspec": {
   "display_name": "Python 3",
   "language": "python",
   "name": "python3"
  },
  "language_info": {
   "codemirror_mode": {
    "name": "ipython",
    "version": 3
   },
   "file_extension": ".py",
   "mimetype": "text/x-python",
   "name": "python",
   "nbconvert_exporter": "python",
   "pygments_lexer": "ipython3",
   "version": "3.7.4"
  }
 },
 "nbformat": 4,
 "nbformat_minor": 2
}
